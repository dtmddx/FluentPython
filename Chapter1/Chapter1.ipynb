{
 "cells": [
  {
   "cell_type": "markdown",
   "metadata": {
    "collapsed": true
   },
   "source": [
    ""
   ]
  },
  {
   "cell_type": "markdown",
   "metadata": {},
   "source": [
    "# The Python Data Model\n",
    "\n",
    "One of the best qualities of Python is its consistency. after working with Python for a while, you are able to start making informed见多识广的, correct guesses about features that are new to you.\n",
    "\n",
    "However, if you learned another object-oriented language before Python, you may have found it strange to use len(collection) instead of collection.len(). This apparent oddity is the tip of an iceberg that, when properly understood, is the key to everthing we called Pythonic. The iceberg is called the Python data model, and it describes the API that you can use to make your own objects play well with the most idiomatic 符合语言习惯的 language features.\n",
    "\n",
    "You can think of the data model as a description of Python as a framework. It formalizes the interfaces of the building blocks of the language itself, such as sequences, iterators, functions, classes, contex managers, and so on.\n",
    "\n",
    "While coding with any framework, you spend a lot of time implementing methods that are called by the framework. The same happens when you leverage the Python data model. The Python interpreter invokes special methods to perform basic object operations, often triggered by special syntax. The special method names are always written with leading and trailing double underscores (i.e., \\__getitem\\__). For example, the syntax obj\\[key\\] is supported by the \\__getitem\\__ special method. In order to evaluate my_collection\\[key\\], the interpreter calls my_collection.\\_\\_getitem\\_\\_(key)."
   ]
  },
  {
   "cell_type": "markdown",
   "metadata": {},
   "source": [
    "## A Pythonic Card Deck"
   ]
  },
  {
   "cell_type": "markdown",
   "metadata": {},
   "source": [
    "\n"
   ]
  },
  {
   "cell_type": "code",
   "execution_count": 11,
   "metadata": {},
   "outputs": [],
   "source": [
    "import collections\n",
    "\n",
    "Card = collections.namedtuple(\"Cardcard\", [\"rank\", \"suit\"])\n",
    "\n",
    "class FrenchDeck:\n",
    "    ranks = [str(n) for n in range(2, 11)] + list(\"JQKA\")\n",
    "    suits = \"spades diamonds clubs hearts\".split()\n",
    "\n",
    "    def __init__(self):\n",
    "        self._cards = [Card(rank, suit) for suit in self.suits for rank in self.ranks]\n",
    "        \n",
    "    def __len__(self):\n",
    "        return len(self._cards)\n",
    "    \n",
    "    def __getitem__(self, position):\n",
    "        return self._cards[position]"
   ]
  },
  {
   "cell_type": "markdown",
   "metadata": {},
   "source": [
    "The first thing to note is the use of collections.namedtuple to construct a simple class to represent individual cards. Since Python2.6, namedtuple can be used to build classes of objects that are just bundles of attributes with no custom methods, like a database record. In the example, we use it to protive a nice representation for the cards in the deck, as shown in the console session:"
   ]
  },
  {
   "cell_type": "code",
   "execution_count": 12,
   "metadata": {},
   "outputs": [
    {
     "data": {
      "text/plain": [
       "Cardcard(rank='7', suit='diamonds')"
      ]
     },
     "execution_count": 12,
     "metadata": {},
     "output_type": "execute_result"
    }
   ],
   "source": [
    "beer_card = Card(\"7\", \"diamonds\")\n",
    "beer_card"
   ]
  },
  {
   "cell_type": "markdown",
   "metadata": {},
   "source": [
    "But the point of this example is the FrenchDeck class. It's short, but it packs a punch. First, like any standard Pythono collection, a deck responds to the len() function by returning the nuber of cards in it:"
   ]
  },
  {
   "cell_type": "code",
   "execution_count": 13,
   "metadata": {},
   "outputs": [
    {
     "data": {
      "text/plain": [
       "52"
      ]
     },
     "execution_count": 13,
     "metadata": {},
     "output_type": "execute_result"
    }
   ],
   "source": [
    "deck = FrenchDeck()\n",
    "len(deck)"
   ]
  },
  {
   "cell_type": "markdown",
   "metadata": {},
   "source": [
    "Reading specific cards from the deck - say, the first or the last - should be as easy as deck[0] or deck[-1], and this is what the \\_\\_getitem__ mothod provides:"
   ]
  },
  {
   "cell_type": "code",
   "execution_count": 18,
   "metadata": {
    "collapsed": true
   },
   "outputs": [
    {
     "name": "stdout",
     "output_type": "stream",
     "text": [
      "Cardcard(rank='2', suit='spades')\nCardcard(rank='A', suit='hearts')\n"
     ]
    },
    {
     "data": {
      "text/plain": [
       "Cardcard(rank='2', suit='spades')"
      ]
     },
     "execution_count": 18,
     "metadata": {},
     "output_type": "execute_result"
    }
   ],
   "source": [
    "print(deck[0])\n",
    "\n",
    "print(deck[-1])\n",
    "\n",
    "deck[0]"
   ]
  },
  {
   "cell_type": "markdown",
   "metadata": {},
   "source": [
    "Should we create a method to pick a radom card? No need. Python already has a function to get a random item from a sequance: random.choice. We can just use it on a deck instance:"
   ]
  },
  {
   "cell_type": "code",
   "execution_count": 22,
   "metadata": {},
   "outputs": [
    {
     "name": "stdout",
     "output_type": "stream",
     "text": [
      "<class '__main__.FrenchDeck'>\nCardcard(rank='J', suit='hearts')\nCardcard(rank='J', suit='clubs')\n"
     ]
    }
   ],
   "source": [
    "from random import choice\n",
    "print(type(deck))\n",
    "print(choice(deck))\n",
    "print(choice(deck))"
   ]
  },
  {
   "cell_type": "markdown",
   "metadata": {},
   "source": [
    "We've just seen two advantages of using special methods to leverage the Python data model:\n",
    "* The users of your classes don't have to memorize arbitrary method names for standard operations (\"How to get the number of items? Is it .size(), .length(), or what?\").\n",
    "* It's easier to benefit from the rich Python standard library and avoid reinventing the wheel, like the random.choice function."
   ]
  },
  {
   "cell_type": "markdown",
   "metadata": {},
   "source": [
    "But it gets better.\n",
    "Because our \\__getitem__ delegates to the [] operator of self._cards, our deck automatically supports slicing. Here's how we look at the top three cards from a brand new deck, and then pick just the aces by starting on index 12 and skipping 13 cards at a time:"
   ]
  },
  {
   "cell_type": "code",
   "execution_count": 29,
   "metadata": {},
   "outputs": [
    {
     "name": "stdout",
     "output_type": "stream",
     "text": [
      "[Cardcard(rank='2', suit='spades'), Cardcard(rank='3', suit='spades'), Cardcard(rank='4', suit='spades')]\n[Cardcard(rank='A', suit='spades'), Cardcard(rank='A', suit='diamonds'), Cardcard(rank='A', suit='clubs'), Cardcard(rank='A', suit='hearts')]\n"
     ]
    },
    {
     "data": {
      "text/plain": [
       "[Cardcard(rank='2', suit='spades'),\n Cardcard(rank='3', suit='spades'),\n Cardcard(rank='4', suit='spades')]"
      ]
     },
     "execution_count": 29,
     "metadata": {},
     "output_type": "execute_result"
    }
   ],
   "source": [
    "print(deck[:3])\n",
    "\n",
    "print(deck[12::13])\n",
    "deck[:3]"
   ]
  },
  {
   "cell_type": "markdown",
   "metadata": {},
   "source": [
    "Just by implementing the \\_\\_getitem__ special method, our deck is also iterable:"
   ]
  },
  {
   "cell_type": "code",
   "execution_count": 27,
   "metadata": {},
   "outputs": [
    {
     "name": "stdout",
     "output_type": "stream",
     "text": [
      "Cardcard(rank='2', suit='spades')\nCardcard(rank='3', suit='spades')\nCardcard(rank='4', suit='spades')\nCardcard(rank='5', suit='spades')\nCardcard(rank='6', suit='spades')\nCardcard(rank='7', suit='spades')\nCardcard(rank='8', suit='spades')\nCardcard(rank='9', suit='spades')\nCardcard(rank='10', suit='spades')\nCardcard(rank='J', suit='spades')\nCardcard(rank='Q', suit='spades')\nCardcard(rank='K', suit='spades')\nCardcard(rank='A', suit='spades')\nCardcard(rank='2', suit='diamonds')\nCardcard(rank='3', suit='diamonds')\nCardcard(rank='4', suit='diamonds')\nCardcard(rank='5', suit='diamonds')\nCardcard(rank='6', suit='diamonds')\nCardcard(rank='7', suit='diamonds')\nCardcard(rank='8', suit='diamonds')\nCardcard(rank='9', suit='diamonds')\nCardcard(rank='10', suit='diamonds')\nCardcard(rank='J', suit='diamonds')\nCardcard(rank='Q', suit='diamonds')\nCardcard(rank='K', suit='diamonds')\nCardcard(rank='A', suit='diamonds')\nCardcard(rank='2', suit='clubs')\nCardcard(rank='3', suit='clubs')\nCardcard(rank='4', suit='clubs')\nCardcard(rank='5', suit='clubs')\nCardcard(rank='6', suit='clubs')\nCardcard(rank='7', suit='clubs')\nCardcard(rank='8', suit='clubs')\nCardcard(rank='9', suit='clubs')\nCardcard(rank='10', suit='clubs')\nCardcard(rank='J', suit='clubs')\nCardcard(rank='Q', suit='clubs')\nCardcard(rank='K', suit='clubs')\nCardcard(rank='A', suit='clubs')\nCardcard(rank='2', suit='hearts')\nCardcard(rank='3', suit='hearts')\nCardcard(rank='4', suit='hearts')\nCardcard(rank='5', suit='hearts')\nCardcard(rank='6', suit='hearts')\nCardcard(rank='7', suit='hearts')\nCardcard(rank='8', suit='hearts')\nCardcard(rank='9', suit='hearts')\nCardcard(rank='10', suit='hearts')\nCardcard(rank='J', suit='hearts')\nCardcard(rank='Q', suit='hearts')\nCardcard(rank='K', suit='hearts')\nCardcard(rank='A', suit='hearts')\n"
     ]
    }
   ],
   "source": [
    "for card in deck:\n",
    "    print(card)"
   ]
  },
  {
   "cell_type": "markdown",
   "metadata": {},
   "source": [
    "The deck can also be iterable in reverse:"
   ]
  },
  {
   "cell_type": "code",
   "execution_count": 33,
   "metadata": {},
   "outputs": [
    {
     "name": "stdout",
     "output_type": "stream",
     "text": [
      "Cardcard(rank='A', suit='hearts')\nCardcard(rank='K', suit='hearts')\nCardcard(rank='Q', suit='hearts')\nCardcard(rank='J', suit='hearts')\nCardcard(rank='10', suit='hearts')\nCardcard(rank='9', suit='hearts')\nCardcard(rank='8', suit='hearts')\nCardcard(rank='7', suit='hearts')\nCardcard(rank='6', suit='hearts')\nCardcard(rank='5', suit='hearts')\nCardcard(rank='4', suit='hearts')\nCardcard(rank='3', suit='hearts')\nCardcard(rank='2', suit='hearts')\nCardcard(rank='A', suit='clubs')\nCardcard(rank='K', suit='clubs')\nCardcard(rank='Q', suit='clubs')\nCardcard(rank='J', suit='clubs')\nCardcard(rank='10', suit='clubs')\nCardcard(rank='9', suit='clubs')\nCardcard(rank='8', suit='clubs')\nCardcard(rank='7', suit='clubs')\nCardcard(rank='6', suit='clubs')\nCardcard(rank='5', suit='clubs')\nCardcard(rank='4', suit='clubs')\nCardcard(rank='3', suit='clubs')\nCardcard(rank='2', suit='clubs')\nCardcard(rank='A', suit='diamonds')\nCardcard(rank='K', suit='diamonds')\nCardcard(rank='Q', suit='diamonds')\nCardcard(rank='J', suit='diamonds')\nCardcard(rank='10', suit='diamonds')\nCardcard(rank='9', suit='diamonds')\nCardcard(rank='8', suit='diamonds')\nCardcard(rank='7', suit='diamonds')\nCardcard(rank='6', suit='diamonds')\nCardcard(rank='5', suit='diamonds')\nCardcard(rank='4', suit='diamonds')\nCardcard(rank='3', suit='diamonds')\nCardcard(rank='2', suit='diamonds')\nCardcard(rank='A', suit='spades')\nCardcard(rank='K', suit='spades')\nCardcard(rank='Q', suit='spades')\nCardcard(rank='J', suit='spades')\nCardcard(rank='10', suit='spades')\nCardcard(rank='9', suit='spades')\nCardcard(rank='8', suit='spades')\nCardcard(rank='7', suit='spades')\nCardcard(rank='6', suit='spades')\nCardcard(rank='5', suit='spades')\nCardcard(rank='4', suit='spades')\nCardcard(rank='3', suit='spades')\nCardcard(rank='2', suit='spades')\n"
     ]
    }
   ],
   "source": [
    "for card in reversed(deck): #  doctest: +ELLIPSIS\n",
    "    print(card)"
   ]
  },
  {
   "cell_type": "markdown",
   "metadata": {},
   "source": [
    "Iteration is often implicit. If a collection has no \\_\\_contains\\_\\_  method, the in operator does a sequential scan. Case in point: __in__ works with our FrenchDeck class because it is iterable. Check it out:"
   ]
  },
  {
   "cell_type": "code",
   "execution_count": 36,
   "metadata": {},
   "outputs": [
    {
     "name": "stdout",
     "output_type": "stream",
     "text": [
      "True\n"
     ]
    },
    {
     "data": {
      "text/plain": [
       "False"
      ]
     },
     "execution_count": 36,
     "metadata": {},
     "output_type": "execute_result"
    }
   ],
   "source": [
    "print(Card(\"Q\", \"hearts\") in deck)\n",
    "Card(\"a\", \"df\") in deck"
   ]
  },
  {
   "cell_type": "markdown",
   "metadata": {},
   "source": [
    "How about sorting? A common system of ranking cards is by rank (with aces being highest), then by suit in the order of spades (highest), then hearts, diamond, and clubs (lowest). Here is a function that ranks cards by that rule, returning 0 for the 2 of clubs and 51 for the aces of spades:"
   ]
  },
  {
   "cell_type": "code",
   "execution_count": 39,
   "metadata": {},
   "outputs": [
    {
     "name": "stdout",
     "output_type": "stream",
     "text": [
      "<class 'dict'>\n{'spades': 3, 'hearts': 2, 'diamonds': 1, 'clubs': 0}\n"
     ]
    }
   ],
   "source": [
    "suit_values = dict(spades = 3, hearts = 2, diamonds = 1, clubs = 0)\n",
    "print(type(suit_values))\n",
    "print(suit_values)"
   ]
  },
  {
   "cell_type": "code",
   "execution_count": 41,
   "metadata": {},
   "outputs": [],
   "source": [
    "def spades_high(card):\n",
    "    rank_value = FrenchDeck.ranks.index(card.rank)\n",
    "    return rank_value * len(suit_values) + suit_values[card.suit]"
   ]
  },
  {
   "cell_type": "code",
   "execution_count": 42,
   "metadata": {},
   "outputs": [
    {
     "data": {
      "text/plain": [
       "4"
      ]
     },
     "execution_count": 42,
     "metadata": {},
     "output_type": "execute_result"
    }
   ],
   "source": [
    "len(suit_values)"
   ]
  },
  {
   "cell_type": "code",
   "execution_count": 43,
   "metadata": {},
   "outputs": [
    {
     "name": "stdout",
     "output_type": "stream",
     "text": [
      "Cardcard(rank='2', suit='clubs')\nCardcard(rank='2', suit='diamonds')\nCardcard(rank='2', suit='hearts')\nCardcard(rank='2', suit='spades')\nCardcard(rank='3', suit='clubs')\nCardcard(rank='3', suit='diamonds')\nCardcard(rank='3', suit='hearts')\nCardcard(rank='3', suit='spades')\nCardcard(rank='4', suit='clubs')\nCardcard(rank='4', suit='diamonds')\nCardcard(rank='4', suit='hearts')\nCardcard(rank='4', suit='spades')\nCardcard(rank='5', suit='clubs')\nCardcard(rank='5', suit='diamonds')\nCardcard(rank='5', suit='hearts')\nCardcard(rank='5', suit='spades')\nCardcard(rank='6', suit='clubs')\nCardcard(rank='6', suit='diamonds')\nCardcard(rank='6', suit='hearts')\nCardcard(rank='6', suit='spades')\nCardcard(rank='7', suit='clubs')\nCardcard(rank='7', suit='diamonds')\nCardcard(rank='7', suit='hearts')\nCardcard(rank='7', suit='spades')\nCardcard(rank='8', suit='clubs')\nCardcard(rank='8', suit='diamonds')\nCardcard(rank='8', suit='hearts')\nCardcard(rank='8', suit='spades')\nCardcard(rank='9', suit='clubs')\nCardcard(rank='9', suit='diamonds')\nCardcard(rank='9', suit='hearts')\nCardcard(rank='9', suit='spades')\nCardcard(rank='10', suit='clubs')\nCardcard(rank='10', suit='diamonds')\nCardcard(rank='10', suit='hearts')\nCardcard(rank='10', suit='spades')\nCardcard(rank='J', suit='clubs')\nCardcard(rank='J', suit='diamonds')\nCardcard(rank='J', suit='hearts')\nCardcard(rank='J', suit='spades')\nCardcard(rank='Q', suit='clubs')\nCardcard(rank='Q', suit='diamonds')\nCardcard(rank='Q', suit='hearts')\nCardcard(rank='Q', suit='spades')\nCardcard(rank='K', suit='clubs')\nCardcard(rank='K', suit='diamonds')\nCardcard(rank='K', suit='hearts')\nCardcard(rank='K', suit='spades')\nCardcard(rank='A', suit='clubs')\nCardcard(rank='A', suit='diamonds')\nCardcard(rank='A', suit='hearts')\nCardcard(rank='A', suit='spades')\n"
     ]
    }
   ],
   "source": [
    "for card in sorted(deck, key=spades_high):\n",
    "    print(card)"
   ]
  },
  {
   "cell_type": "code",
   "execution_count": null,
   "metadata": {},
   "outputs": [],
   "source": []
  }
 ],
 "metadata": {
  "kernelspec": {
   "display_name": "Python 2",
   "language": "python",
   "name": "python2"
  },
  "language_info": {
   "codemirror_mode": {
    "name": "ipython",
    "version": 2
   },
   "file_extension": ".py",
   "mimetype": "text/x-python",
   "name": "python",
   "nbconvert_exporter": "python",
   "pygments_lexer": "ipython2",
   "version": "2.7.6"
  }
 },
 "nbformat": 4,
 "nbformat_minor": 0
}
